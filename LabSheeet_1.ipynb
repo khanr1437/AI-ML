{
  "nbformat": 4,
  "nbformat_minor": 0,
  "metadata": {
    "colab": {
      "provenance": [],
      "authorship_tag": "ABX9TyOOyu36cwHTxhMFE+k1m/AV",
      "include_colab_link": true
    },
    "kernelspec": {
      "name": "python3",
      "display_name": "Python 3"
    },
    "language_info": {
      "name": "python"
    }
  },
  "cells": [
    {
      "cell_type": "markdown",
      "metadata": {
        "id": "view-in-github",
        "colab_type": "text"
      },
      "source": [
        "<a href=\"https://colab.research.google.com/github/H0E0M0A0N0T0/Ai-ml-lab-sheets-/blob/main/LabSheeet_1.ipynb\" target=\"_parent\"><img src=\"https://colab.research.google.com/assets/colab-badge.svg\" alt=\"Open In Colab\"/></a>"
      ]
    },
    {
      "cell_type": "code",
      "execution_count": null,
      "metadata": {
        "colab": {
          "base_uri": "https://localhost:8080/"
        },
        "id": "sQS79NGy5Sx8",
        "outputId": "db541eba-b695-45d3-9c08-b58601d00482"
      },
      "outputs": [
        {
          "output_type": "stream",
          "name": "stdout",
          "text": [
            "(5,)\n",
            "<class 'tuple'>\n"
          ]
        }
      ],
      "source": [
        "#CREATING TUPLE WITH SINGLE ELEMENT\n",
        "\n",
        "a=(5,)\n",
        "print(a)\n",
        "print(type(a))"
      ]
    },
    {
      "cell_type": "code",
      "source": [
        "#RECREATING TUPLE WITH INTIGER\n",
        "\n",
        "a=(1,2,3,4,5)\n",
        "print(a)"
      ],
      "metadata": {
        "colab": {
          "base_uri": "https://localhost:8080/"
        },
        "id": "6HCxdWwp6RYv",
        "outputId": "c79b219c-02a6-4555-c3e1-627f9ff838c3"
      },
      "execution_count": null,
      "outputs": [
        {
          "output_type": "stream",
          "name": "stdout",
          "text": [
            "(1, 2, 3, 4, 5)\n"
          ]
        }
      ]
    },
    {
      "cell_type": "code",
      "source": [
        "#CREATING TUPLE WITH FLOAT NUMBERS\n",
        "\n",
        "b=(1.2,2.3,3.4,4.5,5.6)\n",
        "print(b)\n"
      ],
      "metadata": {
        "colab": {
          "base_uri": "https://localhost:8080/"
        },
        "id": "MoQm1sEh7A2n",
        "outputId": "d9ed80ef-4a13-4376-c695-439627f44c4e"
      },
      "execution_count": null,
      "outputs": [
        {
          "output_type": "stream",
          "name": "stdout",
          "text": [
            "(1.2, 2.3, 3.4, 4.5, 5.6)\n"
          ]
        }
      ]
    },
    {
      "cell_type": "code",
      "source": [
        "#CREATING TUPLE WITH STRING NUMBERS\n",
        "\n",
        "c=(\"one\",\"two\",\"three\",\"four\",\"five\")\n",
        "print(c)"
      ],
      "metadata": {
        "colab": {
          "base_uri": "https://localhost:8080/"
        },
        "id": "_8yTPDBE6Zm_",
        "outputId": "ec430404-ff34-4ec4-ce9c-b6999ca9baaf"
      },
      "execution_count": null,
      "outputs": [
        {
          "output_type": "stream",
          "name": "stdout",
          "text": [
            "('one', 'two', 'three', 'four', 'five')\n"
          ]
        }
      ]
    },
    {
      "cell_type": "code",
      "source": [
        "#CREATING TUPLE WITH MULTIPLE DATA TYPES\n",
        "\n",
        "d=(1,2,3,4,5,\"one\",\"two\",\"three\",\"four\",\"five\")\n",
        "print(d)\n"
      ],
      "metadata": {
        "colab": {
          "base_uri": "https://localhost:8080/"
        },
        "id": "mBqSdNSL6_Y3",
        "outputId": "92d58519-ed9a-400f-f425-1501d3244491"
      },
      "execution_count": null,
      "outputs": [
        {
          "output_type": "stream",
          "name": "stdout",
          "text": [
            "(1, 2, 3, 4, 5, 'one', 'two', 'three', 'four', 'five')\n"
          ]
        }
      ]
    },
    {
      "cell_type": "code",
      "source": [
        "#ACCESSING ITEMS OF STRING\n",
        "\n",
        "a=(1,2,3,4,\"hello\")\n",
        "print(a[4])\n"
      ],
      "metadata": {
        "colab": {
          "base_uri": "https://localhost:8080/"
        },
        "id": "xBaEAZkB7YUO",
        "outputId": "1c625707-eca8-42df-c248-fd9e01d96b57"
      },
      "execution_count": null,
      "outputs": [
        {
          "output_type": "stream",
          "name": "stdout",
          "text": [
            "hello\n"
          ]
        }
      ]
    },
    {
      "cell_type": "code",
      "source": [
        "#CREATING A DICTIONARY\n",
        "a={\n",
        "    \"name\":\"Joy\",\n",
        "    \"age\":23,\n",
        "    \"education\":\"Engineer\",\n",
        "}\n",
        "print(a)"
      ],
      "metadata": {
        "colab": {
          "base_uri": "https://localhost:8080/"
        },
        "id": "4Grq5S-d7w3-",
        "outputId": "edb615b9-42d0-42fa-9a0c-bb03dd45ae30"
      },
      "execution_count": null,
      "outputs": [
        {
          "output_type": "stream",
          "name": "stdout",
          "text": [
            "{'name': 'Joy', 'age': 23, 'education': 'Engineer'}\n"
          ]
        }
      ]
    },
    {
      "cell_type": "code",
      "source": [
        "type(a)"
      ],
      "metadata": {
        "colab": {
          "base_uri": "https://localhost:8080/"
        },
        "id": "7WY84pw78OGu",
        "outputId": "6da10667-ec43-473e-88c4-961f0f365d3d"
      },
      "execution_count": null,
      "outputs": [
        {
          "output_type": "execute_result",
          "data": {
            "text/plain": [
              "dict"
            ]
          },
          "metadata": {},
          "execution_count": 9
        }
      ]
    },
    {
      "cell_type": "code",
      "source": [
        "x=a.keys()\n",
        "print(x)"
      ],
      "metadata": {
        "colab": {
          "base_uri": "https://localhost:8080/"
        },
        "id": "YUjY_TFs8qxG",
        "outputId": "c8c9802d-e3d9-496e-9e60-556f3afd2da8"
      },
      "execution_count": null,
      "outputs": [
        {
          "output_type": "stream",
          "name": "stdout",
          "text": [
            "dict_keys(['name', 'age', 'education'])\n"
          ]
        }
      ]
    },
    {
      "cell_type": "code",
      "source": [
        "y=a.values()\n",
        "print(y)"
      ],
      "metadata": {
        "colab": {
          "base_uri": "https://localhost:8080/"
        },
        "id": "W2fpYv0k8ufX",
        "outputId": "da159964-b2ca-4ca4-8ba8-c1a5a5004533"
      },
      "execution_count": null,
      "outputs": [
        {
          "output_type": "stream",
          "name": "stdout",
          "text": [
            "dict_values(['Joy', 23, 'Engineer'])\n"
          ]
        }
      ]
    },
    {
      "cell_type": "code",
      "source": [
        "z=a.items()\n",
        "print(z)"
      ],
      "metadata": {
        "colab": {
          "base_uri": "https://localhost:8080/"
        },
        "id": "rgC0u98-9OCu",
        "outputId": "81c55fec-3c36-4590-e6df-fecddbe115b8"
      },
      "execution_count": null,
      "outputs": [
        {
          "output_type": "stream",
          "name": "stdout",
          "text": [
            "dict_items([('name', 'Joy'), ('age', 23), ('education', 'Engineer')])\n"
          ]
        }
      ]
    },
    {
      "cell_type": "code",
      "source": [
        "#SET\n",
        "\n",
        "set1={1,2,3,4,5}print(set1)"
      ],
      "metadata": {
        "colab": {
          "base_uri": "https://localhost:8080/"
        },
        "id": "Ajiibfd3959_",
        "outputId": "90d8dfa0-7ca8-48b9-e726-f2f72564ee41"
      },
      "execution_count": null,
      "outputs": [
        {
          "output_type": "stream",
          "name": "stdout",
          "text": [
            "{1, 2, 3, 4, 5}\n"
          ]
        }
      ]
    },
    {
      "cell_type": "code",
      "source": [
        "# DUPLICATE NOT ALLOWED\n",
        "\n",
        "set={1,2,3,4,5,1,2,3,4,5}\n",
        "set"
      ],
      "metadata": {
        "colab": {
          "base_uri": "https://localhost:8080/"
        },
        "id": "Qg4uZLaw9-Rn",
        "outputId": "644c2d14-6ecf-4e02-c5a8-ce043287174a"
      },
      "execution_count": null,
      "outputs": [
        {
          "output_type": "execute_result",
          "data": {
            "text/plain": [
              "{1, 2, 3, 4, 5}"
            ]
          },
          "metadata": {},
          "execution_count": 17
        }
      ]
    },
    {
      "cell_type": "code",
      "source": [
        "len(set)"
      ],
      "metadata": {
        "colab": {
          "base_uri": "https://localhost:8080/"
        },
        "id": "fEQZsMjf-UXf",
        "outputId": "ea9723ae-3b3e-44b1-ee10-bcd68428df8d"
      },
      "execution_count": null,
      "outputs": [
        {
          "output_type": "execute_result",
          "data": {
            "text/plain": [
              "5"
            ]
          },
          "metadata": {},
          "execution_count": 18
        }
      ]
    },
    {
      "cell_type": "code",
      "source": [
        "type(set)"
      ],
      "metadata": {
        "colab": {
          "base_uri": "https://localhost:8080/"
        },
        "id": "4Ib3vVR1-6G3",
        "outputId": "00a688c5-b0ed-44f6-d6b2-04939fdd1f5d"
      },
      "execution_count": null,
      "outputs": [
        {
          "output_type": "execute_result",
          "data": {
            "text/plain": [
              "set"
            ]
          },
          "metadata": {},
          "execution_count": 19
        }
      ]
    },
    {
      "cell_type": "code",
      "source": [
        "def add():\n",
        "  a=2\n",
        "  b=2\n",
        "  sum=a+b\n",
        "  return sum\n",
        "add()\n",
        "print(add())"
      ],
      "metadata": {
        "id": "tiju9Fyo-7-X",
        "colab": {
          "base_uri": "https://localhost:8080/"
        },
        "outputId": "831d44bc-c905-49fc-cc24-0570dca6f63c"
      },
      "execution_count": null,
      "outputs": [
        {
          "output_type": "stream",
          "name": "stdout",
          "text": [
            "4\n"
          ]
        }
      ]
    },
    {
      "cell_type": "code",
      "source": [],
      "metadata": {
        "id": "GDKinAYQB06J"
      },
      "execution_count": null,
      "outputs": []
    }
  ]
}