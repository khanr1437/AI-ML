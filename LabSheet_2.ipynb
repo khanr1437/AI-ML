{
  "nbformat": 4,
  "nbformat_minor": 0,
  "metadata": {
    "colab": {
      "provenance": [],
      "authorship_tag": "ABX9TyOaHd9GohlSEz7szyLjWsmX",
      "include_colab_link": true
    },
    "kernelspec": {
      "name": "python3",
      "display_name": "Python 3"
    },
    "language_info": {
      "name": "python"
    }
  },
  "cells": [
    {
      "cell_type": "markdown",
      "metadata": {
        "id": "view-in-github",
        "colab_type": "text"
      },
      "source": [
        "<a href=\"https://colab.research.google.com/github/H0E0M0A0N0T0/Ai-ml-lab-sheets-/blob/main/LabSheet_2.ipynb\" target=\"_parent\"><img src=\"https://colab.research.google.com/assets/colab-badge.svg\" alt=\"Open In Colab\"/></a>"
      ]
    },
    {
      "cell_type": "code",
      "execution_count": null,
      "metadata": {
        "colab": {
          "base_uri": "https://localhost:8080/"
        },
        "id": "4_CJM7-iDRMr",
        "outputId": "ab1dfb56-cdee-4ced-b204-3e78da6df53e"
      },
      "outputs": [
        {
          "output_type": "stream",
          "name": "stdout",
          "text": [
            "1.26.4\n"
          ]
        }
      ],
      "source": [
        "\n",
        "#NUMPY\n",
        "\n",
        "import numpy as np\n",
        "\n",
        "print(np.__version__)"
      ]
    },
    {
      "cell_type": "code",
      "source": [
        "a1=np.array([1,2,3,4,5])\n",
        "print(a1)\n",
        "print(type(a1))\n",
        "print(a1.shape)\n",
        "print(a1.size)\n"
      ],
      "metadata": {
        "colab": {
          "base_uri": "https://localhost:8080/"
        },
        "id": "Tblf2os_DcnY",
        "outputId": "787b6287-99ee-4eff-a2e4-e38eb755d192"
      },
      "execution_count": null,
      "outputs": [
        {
          "output_type": "stream",
          "name": "stdout",
          "text": [
            "[1 2 3 4 5]\n",
            "<class 'numpy.ndarray'>\n",
            "(5,)\n",
            "5\n"
          ]
        }
      ]
    },
    {
      "cell_type": "code",
      "source": [
        "#2D ARRAY\n",
        "a2=np.array([[1,2,3,4],[4,5,6,8]])\n",
        "print(a2)\n",
        "print(type(a2))\n",
        "print(a2.shape)\n",
        "print(a2.size)\n",
        "print(a2.ndim)"
      ],
      "metadata": {
        "colab": {
          "base_uri": "https://localhost:8080/"
        },
        "id": "1j-m2NZJEb_5",
        "outputId": "80d826fb-7e2f-4f92-eac7-7e0753e9af17"
      },
      "execution_count": null,
      "outputs": [
        {
          "output_type": "stream",
          "name": "stdout",
          "text": [
            "[[1 2 3 4]\n",
            " [4 5 6 8]]\n",
            "<class 'numpy.ndarray'>\n",
            "(2, 4)\n",
            "8\n",
            "2\n"
          ]
        }
      ]
    },
    {
      "cell_type": "code",
      "source": [
        "#3D ARRAY\n",
        "a3=np.array([[[1,2,3],[4,5,6],[7,8,9]]])\n",
        "print(a3)\n",
        "print(type(a3))\n",
        "print(a3.shape)\n",
        "print(a3.ndim)\n",
        "print(a3.size)"
      ],
      "metadata": {
        "colab": {
          "base_uri": "https://localhost:8080/"
        },
        "id": "rs_MT_4xEhvI",
        "outputId": "4750655c-6f66-4048-94fc-2a0c3adf321f"
      },
      "execution_count": null,
      "outputs": [
        {
          "output_type": "stream",
          "name": "stdout",
          "text": [
            "[[[1 2 3]\n",
            "  [4 5 6]\n",
            "  [7 8 9]]]\n",
            "<class 'numpy.ndarray'>\n",
            "(1, 3, 3)\n",
            "3\n",
            "9\n"
          ]
        }
      ]
    },
    {
      "cell_type": "code",
      "source": [
        "\n",
        "z1=np.zeros((3))\n",
        "print(z1)\n"
      ],
      "metadata": {
        "colab": {
          "base_uri": "https://localhost:8080/"
        },
        "id": "OpSPVG7LFXLZ",
        "outputId": "94d1c167-8caf-47fa-cf17-2297d3802313"
      },
      "execution_count": null,
      "outputs": [
        {
          "output_type": "stream",
          "name": "stdout",
          "text": [
            "[0. 0. 0.]\n"
          ]
        }
      ]
    },
    {
      "cell_type": "code",
      "source": [
        "#CHANGING DATA TYPE\n",
        "\n",
        "z1=np.zeros((3),dtype=np.int64)\n",
        "print(z1)\n",
        "print(type(z1))\n",
        "print(z1.shape)\n",
        "print(z1.size)\n",
        "print(z1.ndim)\n",
        "print(z1.dtype)"
      ],
      "metadata": {
        "colab": {
          "base_uri": "https://localhost:8080/"
        },
        "id": "3xsTZ46_GdBB",
        "outputId": "e013a3ef-d312-42e3-d17b-54127845ff04"
      },
      "execution_count": null,
      "outputs": [
        {
          "output_type": "stream",
          "name": "stdout",
          "text": [
            "[0 0 0]\n",
            "<class 'numpy.ndarray'>\n",
            "(3,)\n",
            "3\n",
            "1\n"
          ]
        }
      ]
    },
    {
      "cell_type": "code",
      "source": [
        "z2=np.zeros((3,4),dtype=np.int64)\n",
        "print(z2)\n",
        "print(type(z2))\n",
        "print(z2.shape)\n",
        "print(z2.size)\n",
        "print(z2.ndim)\n",
        "print(z2.dtype)"
      ],
      "metadata": {
        "colab": {
          "base_uri": "https://localhost:8080/"
        },
        "id": "sX0W3oR1G7kx",
        "outputId": "46b219f2-4e79-4953-deaa-86e9da694889"
      },
      "execution_count": null,
      "outputs": [
        {
          "output_type": "stream",
          "name": "stdout",
          "text": [
            "[[0 0 0 0]\n",
            " [0 0 0 0]\n",
            " [0 0 0 0]]\n",
            "<class 'numpy.ndarray'>\n",
            "(3, 4)\n",
            "12\n",
            "2\n",
            "int64\n"
          ]
        }
      ]
    },
    {
      "cell_type": "code",
      "source": [
        "z3=np.zeros((2,3,4),dtype=np.int64)\n",
        "print(z3)\n",
        "print(type(z3))\n",
        "print(z3.shape)\n",
        "print(z3.size)\n",
        "print(z3.ndim)"
      ],
      "metadata": {
        "colab": {
          "base_uri": "https://localhost:8080/"
        },
        "id": "_vS5BrfbHK35",
        "outputId": "ebf56e31-6b71-4bd2-a69a-407dd97e6718"
      },
      "execution_count": null,
      "outputs": [
        {
          "output_type": "stream",
          "name": "stdout",
          "text": [
            "[[[0 0 0 0]\n",
            "  [0 0 0 0]\n",
            "  [0 0 0 0]]\n",
            "\n",
            " [[0 0 0 0]\n",
            "  [0 0 0 0]\n",
            "  [0 0 0 0]]]\n",
            "<class 'numpy.ndarray'>\n",
            "(2, 3, 4)\n",
            "24\n",
            "3\n"
          ]
        }
      ]
    },
    {
      "cell_type": "code",
      "source": [
        "#ID ONES ARRAY\n",
        "import numpy as np\n",
        "o1=np.ones((3))\n",
        "print(o1)"
      ],
      "metadata": {
        "colab": {
          "base_uri": "https://localhost:8080/"
        },
        "id": "lQmb813uH3Ed",
        "outputId": "4e28ec90-e6cd-4378-de20-e53482ad80dc"
      },
      "execution_count": null,
      "outputs": [
        {
          "output_type": "stream",
          "name": "stdout",
          "text": [
            "[1. 1. 1.]\n"
          ]
        }
      ]
    },
    {
      "cell_type": "code",
      "source": [
        "a1=np.ones((3,4))\n",
        "print(a1)"
      ],
      "metadata": {
        "colab": {
          "base_uri": "https://localhost:8080/"
        },
        "id": "NIc0Edr_I7Qd",
        "outputId": "0062a909-da33-4557-dbc8-b0159de0cd36"
      },
      "execution_count": null,
      "outputs": [
        {
          "output_type": "stream",
          "name": "stdout",
          "text": [
            "[[1. 1. 1. 1.]\n",
            " [1. 1. 1. 1.]\n",
            " [1. 1. 1. 1.]]\n"
          ]
        }
      ]
    },
    {
      "cell_type": "code",
      "source": [
        "#2D ONES ARRAY\n",
        "\n",
        "a2=np.ones((3,4),dtype=np.int64)\n",
        "print(a2)\n",
        "print(a2.shape)\n",
        "print(a2.size)\n",
        "print(a2.ndim)"
      ],
      "metadata": {
        "colab": {
          "base_uri": "https://localhost:8080/"
        },
        "id": "41meTRr2JADB",
        "outputId": "9f177572-5c83-4267-ede1-ccfd760c9b45"
      },
      "execution_count": null,
      "outputs": [
        {
          "output_type": "stream",
          "name": "stdout",
          "text": [
            "[[1 1 1 1]\n",
            " [1 1 1 1]\n",
            " [1 1 1 1]]\n",
            "(3, 4)\n",
            "12\n",
            "2\n"
          ]
        }
      ]
    },
    {
      "cell_type": "code",
      "source": [
        "#3D ONES ARRAY\n",
        "a3=np.ones([4,2,3],dtype=int)\n",
        "print(a3)\n",
        "print(type(a3))\n",
        "print(a3.shape)\n",
        "print(a3.size)\n",
        "print(a3.ndim)"
      ],
      "metadata": {
        "colab": {
          "base_uri": "https://localhost:8080/"
        },
        "id": "CFIJveV5JaI5",
        "outputId": "f4dc63e7-8735-49bd-8894-f7470a92025e"
      },
      "execution_count": null,
      "outputs": [
        {
          "output_type": "stream",
          "name": "stdout",
          "text": [
            "[[[1 1 1]\n",
            "  [1 1 1]]\n",
            "\n",
            " [[1 1 1]\n",
            "  [1 1 1]]\n",
            "\n",
            " [[1 1 1]\n",
            "  [1 1 1]]\n",
            "\n",
            " [[1 1 1]\n",
            "  [1 1 1]]]\n",
            "<class 'numpy.ndarray'>\n",
            "(4, 2, 3)\n",
            "24\n",
            "3\n"
          ]
        }
      ]
    },
    {
      "cell_type": "code",
      "source": [
        "#1D FULL ARRAY\n",
        "\n",
        "f1=np.full(3,9,dtype=int)\n",
        "print(f1)\n",
        "print(type(f1))\n",
        "print(f1.shape)\n",
        "print(f1.size)\n",
        "print(f1.ndim)"
      ],
      "metadata": {
        "colab": {
          "base_uri": "https://localhost:8080/"
        },
        "id": "PEoTsNaeKHcl",
        "outputId": "fcd55fb5-a09d-4570-ccf0-145f65615abe"
      },
      "execution_count": null,
      "outputs": [
        {
          "output_type": "stream",
          "name": "stdout",
          "text": [
            "[9 9 9]\n",
            "<class 'numpy.ndarray'>\n",
            "(3,)\n",
            "3\n",
            "1\n"
          ]
        }
      ]
    },
    {
      "cell_type": "code",
      "source": [
        "#2D FULL ARRAY\n",
        "\n",
        "f2=np.full((2,3),9,dtype=int)\n",
        "print(f2)\n",
        "print(type(f2))\n",
        "print(f2.shape)\n",
        "print(f2.size)\n",
        "print(f2.ndim)"
      ],
      "metadata": {
        "colab": {
          "base_uri": "https://localhost:8080/"
        },
        "id": "YygqWqx5K8Da",
        "outputId": "0d41a083-0973-4777-960d-6fa34e270346"
      },
      "execution_count": null,
      "outputs": [
        {
          "output_type": "stream",
          "name": "stdout",
          "text": [
            "[[9 9 9]\n",
            " [9 9 9]]\n",
            "<class 'numpy.ndarray'>\n",
            "(2, 3)\n",
            "6\n",
            "2\n"
          ]
        }
      ]
    },
    {
      "cell_type": "code",
      "source": [
        "#3D FULL ARRAY\n",
        "\n",
        "f3=np.full((2,3,4),9,dtype=int)\n",
        "print(f3)\n",
        "print(type(f3))\n",
        "print(f3.shape)\n",
        "print(f3.size)\n",
        "print(f3.ndim)"
      ],
      "metadata": {
        "colab": {
          "base_uri": "https://localhost:8080/"
        },
        "id": "qisKaw3iLc_a",
        "outputId": "d4584ece-760e-4c1f-f991-c02917caf177"
      },
      "execution_count": null,
      "outputs": [
        {
          "output_type": "stream",
          "name": "stdout",
          "text": [
            "[[[9 9 9 9]\n",
            "  [9 9 9 9]\n",
            "  [9 9 9 9]]\n",
            "\n",
            " [[9 9 9 9]\n",
            "  [9 9 9 9]\n",
            "  [9 9 9 9]]]\n",
            "<class 'numpy.ndarray'>\n",
            "(2, 3, 4)\n",
            "24\n",
            "3\n"
          ]
        }
      ]
    },
    {
      "cell_type": "code",
      "source": [
        "#ADD\n",
        "\n",
        "a=np.array([1,2,3])\n",
        "b=np.array([1,2,3])\n",
        "\n",
        "add=np.add(a,b)\n",
        "add"
      ],
      "metadata": {
        "colab": {
          "base_uri": "https://localhost:8080/"
        },
        "id": "EzufZifHLj66",
        "outputId": "e34a22ec-9ec4-4b44-d5d2-34b061a70aee"
      },
      "execution_count": null,
      "outputs": [
        {
          "output_type": "execute_result",
          "data": {
            "text/plain": [
              "array([2, 4, 6])"
            ]
          },
          "metadata": {},
          "execution_count": 43
        }
      ]
    },
    {
      "cell_type": "code",
      "source": [
        "#SUBTRACT\n",
        "a=np.array([5,10,20])\n",
        "b=np.array([4,8,10])\n",
        "\n",
        "sub=np.subtract(a,b)\n",
        "sub"
      ],
      "metadata": {
        "colab": {
          "base_uri": "https://localhost:8080/"
        },
        "id": "IhaCUXxzMC20",
        "outputId": "5bcb2e13-8be7-4dbc-b064-05edba99ed82"
      },
      "execution_count": null,
      "outputs": [
        {
          "output_type": "execute_result",
          "data": {
            "text/plain": [
              "array([ 1,  2, 10])"
            ]
          },
          "metadata": {},
          "execution_count": 44
        }
      ]
    },
    {
      "cell_type": "code",
      "source": [
        "#MULTIPLY\n",
        "a=np.array([5,10,20])\n",
        "b=np.array([4,8,10])\n",
        "\n",
        "mul=np.multiply(a,b)\n",
        "mul\n"
      ],
      "metadata": {
        "colab": {
          "base_uri": "https://localhost:8080/"
        },
        "id": "Vz6ltB-yMSDK",
        "outputId": "87530d6a-8eed-4630-8e9b-f89a313cff03"
      },
      "execution_count": null,
      "outputs": [
        {
          "output_type": "execute_result",
          "data": {
            "text/plain": [
              "array([ 20,  80, 200])"
            ]
          },
          "metadata": {},
          "execution_count": 45
        }
      ]
    },
    {
      "cell_type": "code",
      "source": [
        "#DIVIDE\n",
        "a=np.array([5,10,20])\n",
        "b=np.array([4,8,10])\n",
        "\n",
        "div=np.divide(a,b)\n",
        "div"
      ],
      "metadata": {
        "colab": {
          "base_uri": "https://localhost:8080/"
        },
        "id": "4S04WDWBMkt8",
        "outputId": "c69c90f0-babf-4c32-8e12-10ca3678cc13"
      },
      "execution_count": null,
      "outputs": [
        {
          "output_type": "execute_result",
          "data": {
            "text/plain": [
              "array([1.25, 1.25, 2.  ])"
            ]
          },
          "metadata": {},
          "execution_count": 46
        }
      ]
    },
    {
      "cell_type": "code",
      "source": [
        "#MOD\n",
        "a=np.array([5,10,20])\n",
        "b=np.array([4,8,10])\n",
        "\n",
        "mod=np.mod(a,b)\n",
        "mod"
      ],
      "metadata": {
        "colab": {
          "base_uri": "https://localhost:8080/"
        },
        "id": "zTM9TB3qM4QR",
        "outputId": "17268090-50e9-4fac-c3c8-80c40b4b642b"
      },
      "execution_count": null,
      "outputs": [
        {
          "output_type": "execute_result",
          "data": {
            "text/plain": [
              "array([1, 2, 0])"
            ]
          },
          "metadata": {},
          "execution_count": 47
        }
      ]
    },
    {
      "cell_type": "code",
      "source": [
        "#POWER\n",
        "a=np.array([5,10,20])\n",
        "b=np.array([4,8,10])\n",
        "\n",
        "pow=np.power(a,b)\n",
        "pow"
      ],
      "metadata": {
        "colab": {
          "base_uri": "https://localhost:8080/"
        },
        "id": "SeS6qcXoNFe6",
        "outputId": "1a0864da-9bc0-407b-b3b6-2b3efa64ddec"
      },
      "execution_count": null,
      "outputs": [
        {
          "output_type": "execute_result",
          "data": {
            "text/plain": [
              "array([           625,      100000000, 10240000000000])"
            ]
          },
          "metadata": {},
          "execution_count": 48
        }
      ]
    },
    {
      "cell_type": "code",
      "source": [],
      "metadata": {
        "id": "FV9tChyiNVp7"
      },
      "execution_count": null,
      "outputs": []
    }
  ]
}